{
 "cells": [
  {
   "cell_type": "markdown",
   "metadata": {},
   "source": [
    "# Legal Variables"
   ]
  },
  {
   "cell_type": "code",
   "execution_count": 20,
   "metadata": {},
   "outputs": [
    {
     "name": "stdout",
     "output_type": "stream",
     "text": [
      "Sarah Shafqat\n",
      "1\n",
      "5 5 5 2\n",
      "0\n"
     ]
    },
    {
     "data": {
      "text/plain": [
       "[4, 'aabc', 99]"
      ]
     },
     "execution_count": 20,
     "metadata": {},
     "output_type": "execute_result"
    }
   ],
   "source": [
    "name = 'Sarah'\n",
    "variables = 10\n",
    "Assignment = 1\n",
    "a = b = c = 5\n",
    "d,e,f = 2,'Shafqat',[4,'aabc',99]\n",
    "wrt = name + ' ' + e\n",
    "(blast) = 0\n",
    "\n",
    "print(wrt)\n",
    "print(Assignment)\n",
    "print(a,b,c,d)\n",
    "print((blast))\n",
    "f"
   ]
  },
  {
   "cell_type": "markdown",
   "metadata": {},
   "source": [
    "# 10 Illegal Variables"
   ]
  },
  {
   "cell_type": "code",
   "execution_count": 28,
   "metadata": {},
   "outputs": [
    {
     "ename": "SyntaxError",
     "evalue": "invalid syntax (<ipython-input-28-1e2987589bce>, line 10)",
     "output_type": "error",
     "traceback": [
      "\u001b[1;36m  File \u001b[1;32m\"<ipython-input-28-1e2987589bce>\"\u001b[1;36m, line \u001b[1;32m10\u001b[0m\n\u001b[1;33m    &file = 'open'\u001b[0m\n\u001b[1;37m    ^\u001b[0m\n\u001b[1;31mSyntaxError\u001b[0m\u001b[1;31m:\u001b[0m invalid syntax\n"
     ]
    }
   ],
   "source": [
    "1w = name + ' ' + e\n",
    "@sarah = 'sarah'\n",
    "#name = 'shafqat'\n",
    "%class\n",
    "3str = 'aabc'\n",
    "^^if = 22\n",
    "|r = 'cfv'\n",
    "*tree = 4\n",
    "!df = 'tree'\n",
    "file = 'open'"
   ]
  },
  {
   "cell_type": "code",
   "execution_count": null,
   "metadata": {},
   "outputs": [],
   "source": []
  },
  {
   "cell_type": "code",
   "execution_count": null,
   "metadata": {},
   "outputs": [],
   "source": []
  }
 ],
 "metadata": {
  "kernelspec": {
   "display_name": "Python 3",
   "language": "python",
   "name": "python3"
  },
  "language_info": {
   "codemirror_mode": {
    "name": "ipython",
    "version": 3
   },
   "file_extension": ".py",
   "mimetype": "text/x-python",
   "name": "python",
   "nbconvert_exporter": "python",
   "pygments_lexer": "ipython3",
   "version": "3.7.3"
  }
 },
 "nbformat": 4,
 "nbformat_minor": 2
}
